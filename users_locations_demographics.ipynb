{
 "metadata": {
  "language_info": {
   "codemirror_mode": {
    "name": "ipython",
    "version": 3
   },
   "file_extension": ".py",
   "mimetype": "text/x-python",
   "name": "python",
   "nbconvert_exporter": "python",
   "pygments_lexer": "ipython3",
   "version": "3.8.6-candidate"
  },
  "orig_nbformat": 2,
  "kernelspec": {
   "name": "python3",
   "display_name": "Python 3.8.6 64-bit",
   "metadata": {
    "interpreter": {
     "hash": "7c24553cd23581219c3e61884a4dae72365ef7f0d9c5c27a3959e30dfcb4b767"
    }
   }
  }
 },
 "nbformat": 4,
 "nbformat_minor": 2,
 "cells": [
  {
   "cell_type": "code",
   "execution_count": null,
   "metadata": {},
   "outputs": [],
   "source": [
    "import pandas as pd\n",
    "import matplotlib.pyplot as plt\n",
    "import seaborn as sns"
   ]
  },
  {
   "cell_type": "code",
   "execution_count": null,
   "metadata": {},
   "outputs": [],
   "source": [
    "dataset_name = ' '\n",
    "data = pd.read_csv('./cleaned/' + dataset_name + '.csv')"
   ]
  },
  {
   "cell_type": "code",
   "execution_count": null,
   "metadata": {},
   "outputs": [],
   "source": [
    "location = data['location']\n",
    "print('No. of distinct locations listed by twitter users is:', len(location.value_counts()))\n",
    "unique_locations = location.value_counts()\n",
    "# Remove n.a.\n",
    "unique_locations = pd.DataFrame({'locations': unique_locations.index,\n",
    "                                'count': unique_locations.values})\n",
    "unique_locations.drop(0, inplace = True)\n",
    "# See top 20 locations\n",
    "unique_locations.sort_values(by = 'count', ascending = False).head(20)"
   ]
  },
  {
   "cell_type": "code",
   "execution_count": null,
   "metadata": {},
   "outputs": [],
   "source": [
    "# Focus on top 20 locations first\n",
    "# Convert any possible str to int/numeric first\n",
    "count = pd.to_numeric(unique_locations['count'])\n",
    "unique_locations['count'] = count\n",
    "unique_locations = unique_locations.head(10)\n",
    "# Plot a bar plot\n",
    "plt.figure(figsize=(12,10))\n",
    "sns.set_palette('PuBuGn_d')\n",
    "sns.barplot(x = 'count', y = 'locations', orient = 'h',data = unique_locations)\n",
    "plt.xlabel('Count')\n",
    "plt.ylabel('Locations')\n",
    "plt.title('Top 10 Locations')\n",
    "\n",
    "plt_name = dataset_name + '_locations.png'\n",
    "plt.savefig('./locationsdemographics/' + plt_name, dpi = 300, bbox_inches = 'tight')\n",
    "\n",
    "plt.show()"
   ]
  }
 ]
}