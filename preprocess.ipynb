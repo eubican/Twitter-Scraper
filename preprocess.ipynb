{
 "metadata": {
  "language_info": {
   "codemirror_mode": {
    "name": "ipython",
    "version": 3
   },
   "file_extension": ".py",
   "mimetype": "text/x-python",
   "name": "python",
   "nbconvert_exporter": "python",
   "pygments_lexer": "ipython3",
   "version": "3.8.6-candidate"
  },
  "orig_nbformat": 2,
  "kernelspec": {
   "name": "python3",
   "display_name": "Python 3.8.6 64-bit",
   "metadata": {
    "interpreter": {
     "hash": "7c24553cd23581219c3e61884a4dae72365ef7f0d9c5c27a3959e30dfcb4b767"
    }
   }
  }
 },
 "nbformat": 4,
 "nbformat_minor": 2,
 "cells": [
  {
   "cell_type": "code",
   "execution_count": null,
   "metadata": {},
   "outputs": [],
   "source": [
    "import pandas as pd\n",
    "import preprocessor as p"
   ]
  },
  {
   "cell_type": "code",
   "execution_count": null,
   "metadata": {},
   "outputs": [],
   "source": [
    "dataset_name = ' ' \n",
    "data = pd.read_csv('./datasets/raw/' + dataset_name + '.csv')"
   ]
  },
  {
   "cell_type": "code",
   "execution_count": null,
   "metadata": {},
   "outputs": [],
   "source": [
    "data.count()"
   ]
  },
  {
   "cell_type": "code",
   "execution_count": null,
   "metadata": {},
   "outputs": [],
   "source": [
    "# NULL DEĞERLER İÇEREN SATIR VE SÜTUNLARIN SİLİNMESİ VE TEKRAR EDEN SÜTUNLARIN SİLİNMESİ\n",
    "tweets = data.dropna()\n",
    "tweets = data.drop_duplicates()"
   ]
  },
  {
   "cell_type": "code",
   "execution_count": null,
   "metadata": {},
   "outputs": [],
   "source": [
    "tweets.count()"
   ]
  },
  {
   "cell_type": "code",
   "execution_count": null,
   "metadata": {},
   "outputs": [],
   "source": [
    "#cleaning text from urls, hashtags, mentions, emojis\n",
    "def preprocess_tweet(row):\n",
    "    text = row['text']\n",
    "    p.set_options(p.OPT.URL, p.OPT.HASHTAG, p.OPT.SMILEY,\n",
    "                    p.OPT.MENTION, p.OPT.NUMBER, p.OPT.ESCAPE_CHAR,\n",
    "                    p.OPT.RESERVED)\n",
    "    text = p.clean(text)\n",
    "    return text"
   ]
  },
  {
   "cell_type": "code",
   "execution_count": null,
   "metadata": {},
   "outputs": [],
   "source": [
    "#apply the function to text column, axis = 1 for all rows\n",
    "tweets['text'] = tweets.apply(preprocess_tweet, axis=1)"
   ]
  },
  {
   "cell_type": "code",
   "execution_count": null,
   "metadata": {},
   "outputs": [],
   "source": [
    "#removing punctuations and lower text\n",
    "tweets['text'] = tweets['text'].str.lower().str.replace('[^\\w\\s]', ' ').str.replace('\\s\\s+', ' ')"
   ]
  },
  {
   "cell_type": "code",
   "execution_count": null,
   "metadata": {},
   "outputs": [],
   "source": [
    "tweets.head()"
   ]
  },
  {
   "cell_type": "code",
   "execution_count": null,
   "metadata": {},
   "outputs": [],
   "source": [
    "tweets.to_csv(\"./datasets/cleaned/\" + dataset_name + \".csv\")"
   ]
  }
 ]
}