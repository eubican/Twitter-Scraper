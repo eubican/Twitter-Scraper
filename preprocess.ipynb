{
 "metadata": {
  "language_info": {
   "codemirror_mode": {
    "name": "ipython",
    "version": 3
   },
   "file_extension": ".py",
   "mimetype": "text/x-python",
   "name": "python",
   "nbconvert_exporter": "python",
   "pygments_lexer": "ipython3",
   "version": "3.8.6-candidate"
  },
  "orig_nbformat": 2,
  "kernelspec": {
   "name": "python3",
   "display_name": "Python 3.8.6 64-bit",
   "metadata": {
    "interpreter": {
     "hash": "7c24553cd23581219c3e61884a4dae72365ef7f0d9c5c27a3959e30dfcb4b767"
    }
   }
  }
 },
 "nbformat": 4,
 "nbformat_minor": 2,
 "cells": [
  {
   "cell_type": "code",
   "execution_count": 1,
   "metadata": {},
   "outputs": [],
   "source": [
    "import pandas as pd\n",
    "import preprocessor as p"
   ]
  },
  {
   "cell_type": "code",
   "execution_count": 2,
   "metadata": {},
   "outputs": [],
   "source": [
    "dataset_name = ' ' \n",
    "data = pd.read_csv('./datasets/raw/' + dataset_name + '.csv')"
   ]
  },
  {
   "cell_type": "code",
   "execution_count": 3,
   "metadata": {},
   "outputs": [
    {
     "output_type": "execute_result",
     "data": {
      "text/plain": [
       "username            5\n",
       "location            3\n",
       "following           5\n",
       "followers           5\n",
       "totaltweets         5\n",
       "whentweetcreated    5\n",
       "whenacctcreated     5\n",
       "retweets            5\n",
       "text                5\n",
       "hashtags            5\n",
       "dtype: int64"
      ]
     },
     "metadata": {},
     "execution_count": 3
    }
   ],
   "source": [
    "data.count()"
   ]
  },
  {
   "cell_type": "code",
   "execution_count": 4,
   "metadata": {},
   "outputs": [],
   "source": [
    "# NULL DEĞERLER İÇEREN SATIR VE SÜTUNLARIN SİLİNMESİ VE TEKRAR EDEN SÜTUNLARIN SİLİNMESİ\n",
    "tweets = data.dropna()\n",
    "tweets = data.drop_duplicates()"
   ]
  },
  {
   "cell_type": "code",
   "execution_count": 5,
   "metadata": {},
   "outputs": [
    {
     "output_type": "execute_result",
     "data": {
      "text/plain": [
       "username            5\n",
       "location            3\n",
       "following           5\n",
       "followers           5\n",
       "totaltweets         5\n",
       "whentweetcreated    5\n",
       "whenacctcreated     5\n",
       "retweets            5\n",
       "text                5\n",
       "hashtags            5\n",
       "dtype: int64"
      ]
     },
     "metadata": {},
     "execution_count": 5
    }
   ],
   "source": [
    "tweets.count()"
   ]
  },
  {
   "cell_type": "code",
   "execution_count": 6,
   "metadata": {},
   "outputs": [],
   "source": [
    "#cleaning text from urls, hashtags, mentions, emojis\n",
    "def preprocess_tweet(row):\n",
    "    text = row['text']\n",
    "    p.set_options(p.OPT.URL, p.OPT.HASHTAG, p.OPT.SMILEY,\n",
    "                    p.OPT.MENTION, p.OPT.NUMBER, p.OPT.ESCAPE_CHAR,\n",
    "                    p.OPT.RESERVED)\n",
    "    text = p.clean(text)\n",
    "    return text"
   ]
  },
  {
   "cell_type": "code",
   "execution_count": 7,
   "metadata": {},
   "outputs": [],
   "source": [
    "#apply the function to text column, axis = 1 for all rows\n",
    "tweets['text'] = tweets.apply(preprocess_tweet, axis=1)"
   ]
  },
  {
   "cell_type": "code",
   "execution_count": 8,
   "metadata": {},
   "outputs": [],
   "source": [
    "#removing punctuations and lower text\n",
    "tweets['text'] = tweets['text'].str.lower().str.replace('[^\\w\\s]', ' ').str.replace('\\s\\s+', ' ')"
   ]
  },
  {
   "cell_type": "code",
   "execution_count": 9,
   "metadata": {},
   "outputs": [
    {
     "output_type": "execute_result",
     "data": {
      "text/plain": [
       "          username             location  following  followers  totaltweets  \\\n",
       "0  ComicGuySteve75  Northern California        203        221        11773   \n",
       "1   NaskarPriyajit                  NaN          7          5          692   \n",
       "2      MarioHtter1                  NaN         31         19         8817   \n",
       "3  KungfuScubaBAPE      Los Angeles, CA        202        207         5101   \n",
       "4         jelani82            Miami, FL       1597        898        34090   \n",
       "\n",
       "      whentweetcreated      whenacctcreated  retweets  \\\n",
       "0  2021-03-26 22:19:30  2020-04-02 17:10:23         0   \n",
       "1  2021-03-26 22:19:26  2020-08-31 11:13:08         1   \n",
       "2  2021-03-26 22:19:24  2020-12-31 13:00:22        91   \n",
       "3  2021-03-26 22:19:23  2011-05-25 13:09:26      1488   \n",
       "4  2021-03-26 22:19:22  2010-01-07 23:11:04         1   \n",
       "\n",
       "                                                text  \\\n",
       "0                      tell your barber you want the   \n",
       "1  if canada s crave got mil then imagine what th...   \n",
       "2  to the lean and mean trending machine thank yo...   \n",
       "3  half man half machine all heart snyder s justi...   \n",
       "4  most of my facebook friends are mcu fans and d...   \n",
       "\n",
       "                                            hashtags  \n",
       "0       [{'text': 'SnyderCut', 'indices': [45, 55]}]  \n",
       "1       [{'text': 'SnyderCut', 'indices': [85, 95]}]  \n",
       "2  [{'text': 'SnyderCut', 'indices': [89, 99]}, {...  \n",
       "3  [{'text': 'Cyborg', 'indices': [50, 57]}, {'te...  \n",
       "4  [{'text': 'ZackSnydersJusticeLeague', 'indices...  "
      ],
      "text/html": "<div>\n<style scoped>\n    .dataframe tbody tr th:only-of-type {\n        vertical-align: middle;\n    }\n\n    .dataframe tbody tr th {\n        vertical-align: top;\n    }\n\n    .dataframe thead th {\n        text-align: right;\n    }\n</style>\n<table border=\"1\" class=\"dataframe\">\n  <thead>\n    <tr style=\"text-align: right;\">\n      <th></th>\n      <th>username</th>\n      <th>location</th>\n      <th>following</th>\n      <th>followers</th>\n      <th>totaltweets</th>\n      <th>whentweetcreated</th>\n      <th>whenacctcreated</th>\n      <th>retweets</th>\n      <th>text</th>\n      <th>hashtags</th>\n    </tr>\n  </thead>\n  <tbody>\n    <tr>\n      <th>0</th>\n      <td>ComicGuySteve75</td>\n      <td>Northern California</td>\n      <td>203</td>\n      <td>221</td>\n      <td>11773</td>\n      <td>2021-03-26 22:19:30</td>\n      <td>2020-04-02 17:10:23</td>\n      <td>0</td>\n      <td>tell your barber you want the</td>\n      <td>[{'text': 'SnyderCut', 'indices': [45, 55]}]</td>\n    </tr>\n    <tr>\n      <th>1</th>\n      <td>NaskarPriyajit</td>\n      <td>NaN</td>\n      <td>7</td>\n      <td>5</td>\n      <td>692</td>\n      <td>2021-03-26 22:19:26</td>\n      <td>2020-08-31 11:13:08</td>\n      <td>1</td>\n      <td>if canada s crave got mil then imagine what th...</td>\n      <td>[{'text': 'SnyderCut', 'indices': [85, 95]}]</td>\n    </tr>\n    <tr>\n      <th>2</th>\n      <td>MarioHtter1</td>\n      <td>NaN</td>\n      <td>31</td>\n      <td>19</td>\n      <td>8817</td>\n      <td>2021-03-26 22:19:24</td>\n      <td>2020-12-31 13:00:22</td>\n      <td>91</td>\n      <td>to the lean and mean trending machine thank yo...</td>\n      <td>[{'text': 'SnyderCut', 'indices': [89, 99]}, {...</td>\n    </tr>\n    <tr>\n      <th>3</th>\n      <td>KungfuScubaBAPE</td>\n      <td>Los Angeles, CA</td>\n      <td>202</td>\n      <td>207</td>\n      <td>5101</td>\n      <td>2021-03-26 22:19:23</td>\n      <td>2011-05-25 13:09:26</td>\n      <td>1488</td>\n      <td>half man half machine all heart snyder s justi...</td>\n      <td>[{'text': 'Cyborg', 'indices': [50, 57]}, {'te...</td>\n    </tr>\n    <tr>\n      <th>4</th>\n      <td>jelani82</td>\n      <td>Miami, FL</td>\n      <td>1597</td>\n      <td>898</td>\n      <td>34090</td>\n      <td>2021-03-26 22:19:22</td>\n      <td>2010-01-07 23:11:04</td>\n      <td>1</td>\n      <td>most of my facebook friends are mcu fans and d...</td>\n      <td>[{'text': 'ZackSnydersJusticeLeague', 'indices...</td>\n    </tr>\n  </tbody>\n</table>\n</div>"
     },
     "metadata": {},
     "execution_count": 9
    }
   ],
   "source": [
    "tweets.head()"
   ]
  },
  {
   "cell_type": "code",
   "execution_count": 11,
   "metadata": {},
   "outputs": [],
   "source": [
    "tweets.to_csv(\"./datasets/cleaned/\" + dataset_name + \".csv\")"
   ]
  },
  {
   "cell_type": "code",
   "execution_count": null,
   "metadata": {},
   "outputs": [],
   "source": []
  }
 ]
}
