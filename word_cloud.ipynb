{
 "metadata": {
  "language_info": {
   "codemirror_mode": {
    "name": "ipython",
    "version": 3
   },
   "file_extension": ".py",
   "mimetype": "text/x-python",
   "name": "python",
   "nbconvert_exporter": "python",
   "pygments_lexer": "ipython3",
   "version": "3.8.6-candidate"
  },
  "orig_nbformat": 2,
  "kernelspec": {
   "name": "python3",
   "display_name": "Python 3.8.6 64-bit",
   "metadata": {
    "interpreter": {
     "hash": "7c24553cd23581219c3e61884a4dae72365ef7f0d9c5c27a3959e30dfcb4b767"
    }
   }
  }
 },
 "nbformat": 4,
 "nbformat_minor": 2,
 "cells": [
  {
   "cell_type": "code",
   "execution_count": null,
   "metadata": {},
   "outputs": [],
   "source": [
    "from wordcloud import WordCloud, STOPWORDS\n",
    "import pandas as pd\n",
    "import matplotlib.pyplot as plt"
   ]
  },
  {
   "cell_type": "code",
   "execution_count": null,
   "metadata": {},
   "outputs": [],
   "source": [
    "# reading dataset.csv\n",
    "dataset_name = ' '\n",
    "data = pd.read_csv('./cleaned/' + dataset_name + '.csv')"
   ]
  },
  {
   "cell_type": "code",
   "execution_count": null,
   "metadata": {},
   "outputs": [],
   "source": [
    "# making all tweets one string\n",
    "\n",
    "words = ' '\n",
    "\n",
    "for i in data.text:\n",
    "    i = str(i)\n",
    "    separate = i.split()\n",
    "    for j in range(len(separate)):\n",
    "        separate[j] = separate[j].lower()\n",
    "    \n",
    "    words += \" \".join(separate) + \" \""
   ]
  },
  {
   "cell_type": "code",
   "execution_count": null,
   "metadata": {},
   "outputs": [],
   "source": [
    "wordcloud = WordCloud(\n",
    "    background_color='white',\n",
    "    max_words=200,\n",
    "    max_font_size = 40,\n",
    "    #stopwords=STOPWORDS,\n",
    "    scale=3,\n",
    "    random_state=42\n",
    ").generate(words)"
   ]
  },
  {
   "cell_type": "code",
   "execution_count": null,
   "metadata": {},
   "outputs": [],
   "source": [
    "plt.figure(figsize=(15,15), facecolor=None)\n",
    "plt.imshow(wordcloud)\n",
    "plt.axis('off')\n",
    "plt.tight_layout(pad=0)\n",
    "\n",
    "plt_name = dataset_name + '_kelime_bulutu.png'\n",
    "plt.savefig('./wordclouds/' + plt_name, dpi = 300, bbox_inches = 'tight')\n",
    "\n",
    "plt.show()"
   ]
  }
 ]
}