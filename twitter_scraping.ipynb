{
 "cells": [
  {
   "cell_type": "code",
   "execution_count": null,
   "metadata": {},
   "outputs": [],
   "source": [
    "import pandas as pd\n",
    "import tweepy as tw\n",
    "import time\n",
    "from datetime import datetime"
   ]
  },
  {
   "cell_type": "code",
   "execution_count": null,
   "metadata": {},
   "outputs": [],
   "source": [
    "def authentication(authfile):\n",
    "    with open(authfile, \"r\") as f:\n",
    "        keys = f.readlines()\n",
    "    f.close()\n",
    "\n",
    "    consumer_key = keys[0].replace(\"\\n\", \"\")\n",
    "    consumer_secret = keys[1].replace(\"\\n\", \"\")\n",
    "\n",
    "    access_token = keys[2].replace(\"\\n\", \"\")\n",
    "    access_token_secret = keys[3].replace(\"\\n\", \"\")\n",
    "\n",
    "    auth = tw.auth.OAuthHandler(consumer_key, consumer_secret)\n",
    "    auth.set_access_token(access_token, access_token_secret)\n",
    "    \n",
    "    return tw.API(auth)"
   ]
  },
  {
   "cell_type": "code",
   "execution_count": null,
   "metadata": {},
   "outputs": [],
   "source": [
    "api = authentication('./auth.k')"
   ]
  },
  {
   "cell_type": "code",
   "execution_count": null,
   "metadata": {},
   "outputs": [],
   "source": [
    "results = pd.DataFrame(columns = ['username', 'location', 'following', 'followers', 'totaltweets',\n",
    "                                 'whentweetcreated', 'whenacctcreated' 'retweets', 'text', 'hashtags']) \n",
    "                                 # pandas dataframe to store data"
   ]
  },
  {
   "cell_type": "code",
   "execution_count": null,
   "metadata": {},
   "outputs": [],
   "source": [
    "dataset_name = \"SnyderCut\"\n",
    "search_words = \"#SnyderCut\"\n",
    "language = \"en\" # tr or en\n",
    "\n",
    "program_start = time.time()\n",
    "exact_program_start = datetime.now()\n",
    "\n",
    "for i in range(0, 20):\n",
    "\n",
    "    run_start = time.time()\n",
    "    exact_run_start = datetime.now()\n",
    "\n",
    "    print('Run {} started at {}'.format(i, exact_run_start.strftime(\"%H:%M:%S\")))\n",
    "\n",
    "    tweets = tw.Cursor(api.search, q=search_words, lang=language, since='2021-03-19', tweet_mode='extended').items(2500)\n",
    "    tweet_list = [tweet for tweet in tweets]\n",
    "    \n",
    "    tweetsCount = 0\n",
    "    for tweet in tweet_list:\n",
    "        username = tweet.user.screen_name\n",
    "        location = tweet.user.location\n",
    "        following = tweet.user.friends_count\n",
    "        followers = tweet.user.followers_count\n",
    "        totaltweets = tweet.user.statuses_count\n",
    "        whentweetcreated = tweet.created_at\n",
    "        whenacctcreated = tweet.user.created_at\n",
    "        retweets = tweet.retweet_count\n",
    "        hashtags = tweet.entities['hashtags']\n",
    "        try:\n",
    "            text = tweet.retweeted_status.full_text\n",
    "        except AttributeError:\n",
    "            text = tweet.full_text\n",
    "\n",
    "        myTweet = [username, location, following, followers, totaltweets, whentweetcreated, retweets, text]\n",
    "        results.loc[len(results)] = myTweet\n",
    "        tweetsCount += 1\n",
    "        \n",
    "    run_end = time.time()\n",
    "    exact_run_end = datetime.now()\n",
    "    duration_run = round((run_end-run_start)/60, 2)\n",
    "\n",
    "    print('Run {} completed at {}'.format(i, exact_run_end.strftime(\"%H:%M:%S\")))\n",
    "    print('Number of tweets scraped for run {} is {}'.format(i, tweetsCount))\n",
    "    print('Time take for {} run to complete is {} mins'.format(i, duration_run))\n",
    "        \n",
    "    time.sleep(920) #  15 mins cooldown because of error 429\n",
    "\n",
    "timestamp = datetime.today().strftime('%Y%m%d')\n",
    "\n",
    "filename = './datasets/raw/' + timestamp + '_' + dataset_name + '.csv'\n",
    "\n",
    "results.to_csv(filename, index = False)\n",
    "    \n",
    "program_end = time.time()\n",
    "\n",
    "print('Total time taken to scrap is {} minutes.'.format(round(program_end - program_start)/60, 2))"
   ]
  },
  {
   "cell_type": "code",
   "execution_count": null,
   "metadata": {},
   "outputs": [],
   "source": [
    "results.head()"
   ]
  }
 ],
 "metadata": {
  "kernelspec": {
   "display_name": "Python 3",
   "language": "python",
   "name": "python3"
  },
  "language_info": {
   "codemirror_mode": {
    "name": "ipython",
    "version": 3
   },
   "file_extension": ".py",
   "mimetype": "text/x-python",
   "name": "python",
   "nbconvert_exporter": "python",
   "pygments_lexer": "ipython3",
   "version": "3.8.6rc1"
  }
 },
 "nbformat": 4,
 "nbformat_minor": 2
}